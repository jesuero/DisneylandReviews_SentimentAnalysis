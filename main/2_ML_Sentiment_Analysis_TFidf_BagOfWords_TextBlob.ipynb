{
  "nbformat": 4,
  "nbformat_minor": 0,
  "metadata": {
    "kernelspec": {
      "display_name": "Python 3",
      "language": "python",
      "name": "python3"
    },
    "language_info": {
      "codemirror_mode": {
        "name": "ipython",
        "version": 3
      },
      "file_extension": ".py",
      "mimetype": "text/x-python",
      "name": "python",
      "nbconvert_exporter": "python",
      "pygments_lexer": "ipython3",
      "version": "3.7.4"
    },
    "colab": {
      "name": "2_ML_Sentiment_analysis_tfidf_bagofwords_textblob.ipynb",
      "provenance": [],
      "collapsed_sections": []
    }
  },
  "cells": [
    {
      "cell_type": "markdown",
      "source": [
        "#Machine Learning Sentiment Analysis (TF-IDF, Bag of Words, Textblob)\n",
        "\n",
        "In this notebook Sentiment Analysis is done for the Disneyland reviews dataset using different Machine Learning techniques.\n",
        "\n",
        "You will see:\n",
        "- Dataset transformation from ratings 1-5 to positive-negative labelling and balancing the classes.\n",
        "- Text pre-processing: removing stopwords, removing special characters, stemming.\n",
        "- Bag of Words and TF-idf models with Logistic Regression.\n",
        "- Bag of Words and TF-idf models with Multinomial Naive Bayes.\n",
        "- Using Textblob library pre-trained sentiment analysis model for predicting the test set.\n"
      ],
      "metadata": {
        "id": "NmIvHNd3umAA"
      }
    },
    {
      "cell_type": "markdown",
      "metadata": {
        "_uuid": "1424638f5259100af9f9a5c1b05bd23cf5b71e51",
        "id": "H3UaOLWF_y8T"
      },
      "source": [
        "**Import libraries**"
      ]
    },
    {
      "cell_type": "code",
      "metadata": {
        "_cell_guid": "79c7e3d0-c299-4dcb-8224-4455121ee9b0",
        "_uuid": "d629ff2d2480ee46fbb7e2d37f6b5fab8052498a",
        "id": "GLBppiXH_y8T"
      },
      "source": [
        "#Load the libraries\n",
        "import numpy as np\n",
        "import pandas as pd\n",
        "\n",
        "import seaborn as sns\n",
        "import matplotlib.pyplot as plt\n",
        "\n",
        "from sklearn.feature_extraction.text import CountVectorizer\n",
        "from sklearn.feature_extraction.text import TfidfVectorizer\n",
        "from sklearn.preprocessing import LabelBinarizer\n",
        "from sklearn.linear_model import LogisticRegression,SGDClassifier\n",
        "from sklearn.naive_bayes import MultinomialNB\n",
        "from sklearn.svm import SVC\n",
        "from sklearn.metrics import classification_report,confusion_matrix,accuracy_score\n",
        "\n",
        "import nltk\n",
        "from nltk.corpus import stopwords\n",
        "from nltk.stem.porter import PorterStemmer\n",
        "from nltk.stem import WordNetLemmatizer\n",
        "from nltk.tokenize import word_tokenize,sent_tokenize\n",
        "from nltk.tokenize.toktok import ToktokTokenizer\n",
        "from nltk.stem import LancasterStemmer,WordNetLemmatizer\n",
        "\n",
        "import spacy\n",
        "import re,string,unicodedata\n",
        "\n",
        "from textblob import TextBlob\n",
        "from textblob import Word"
      ],
      "execution_count": 2,
      "outputs": []
    },
    {
      "cell_type": "markdown",
      "metadata": {
        "_uuid": "be1b642cce343f7a8f68f8c91f7c50372cdf4381",
        "id": "k_1HGg40_y8U"
      },
      "source": [
        "**Load the Disneyland reviews dataset**"
      ]
    },
    {
      "cell_type": "code",
      "metadata": {
        "_uuid": "4c593c17588723c0b0b0f19851cb70a8447ced76",
        "scrolled": true,
        "id": "79xUhcP1_y8V",
        "outputId": "c4ce2dfa-ec36-4ab2-b22f-e5aad9cb5cbf",
        "colab": {
          "base_uri": "https://localhost:8080/",
          "height": 380
        }
      },
      "source": [
        "# read data from csv\n",
        "disneyland_data=pd.read_csv('DisneylandReviews.csv', encoding=\"cp1252\")\n",
        "print(disneyland_data.shape)\n",
        "disneyland_data.head(10)"
      ],
      "execution_count": 3,
      "outputs": [
        {
          "output_type": "stream",
          "name": "stdout",
          "text": [
            "(42656, 6)\n"
          ]
        },
        {
          "output_type": "execute_result",
          "data": {
            "text/plain": [
              "   Review_ID  Rating Year_Month     Reviewer_Location  \\\n",
              "0  670772142       4     2019-4             Australia   \n",
              "1  670682799       4     2019-5           Philippines   \n",
              "2  670623270       4     2019-4  United Arab Emirates   \n",
              "3  670607911       4     2019-4             Australia   \n",
              "4  670607296       4     2019-4        United Kingdom   \n",
              "5  670591897       3     2019-4             Singapore   \n",
              "6  670585330       5     2019-4                 India   \n",
              "7  670574142       3     2019-3              Malaysia   \n",
              "8  670571027       2     2019-4             Australia   \n",
              "9  670570869       5     2019-3                 India   \n",
              "\n",
              "                                         Review_Text               Branch  \n",
              "0  If you've ever been to Disneyland anywhere you...  Disneyland_HongKong  \n",
              "1  Its been a while since d last time we visit HK...  Disneyland_HongKong  \n",
              "2  Thanks God it wasn   t too hot or too humid wh...  Disneyland_HongKong  \n",
              "3  HK Disneyland is a great compact park. Unfortu...  Disneyland_HongKong  \n",
              "4  the location is not in the city, took around 1...  Disneyland_HongKong  \n",
              "5  Have been to Disney World, Disneyland Anaheim ...  Disneyland_HongKong  \n",
              "6  Great place! Your day will go by and you won't...  Disneyland_HongKong  \n",
              "7  Think of it as an intro to Disney magic for th...  Disneyland_HongKong  \n",
              "8  Feel so let down with this place,the Disneylan...  Disneyland_HongKong  \n",
              "9  I can go on talking about Disneyland. Whatever...  Disneyland_HongKong  "
            ],
            "text/html": [
              "\n",
              "  <div id=\"df-26b44a0f-984c-454b-84a0-873c02473459\">\n",
              "    <div class=\"colab-df-container\">\n",
              "      <div>\n",
              "<style scoped>\n",
              "    .dataframe tbody tr th:only-of-type {\n",
              "        vertical-align: middle;\n",
              "    }\n",
              "\n",
              "    .dataframe tbody tr th {\n",
              "        vertical-align: top;\n",
              "    }\n",
              "\n",
              "    .dataframe thead th {\n",
              "        text-align: right;\n",
              "    }\n",
              "</style>\n",
              "<table border=\"1\" class=\"dataframe\">\n",
              "  <thead>\n",
              "    <tr style=\"text-align: right;\">\n",
              "      <th></th>\n",
              "      <th>Review_ID</th>\n",
              "      <th>Rating</th>\n",
              "      <th>Year_Month</th>\n",
              "      <th>Reviewer_Location</th>\n",
              "      <th>Review_Text</th>\n",
              "      <th>Branch</th>\n",
              "    </tr>\n",
              "  </thead>\n",
              "  <tbody>\n",
              "    <tr>\n",
              "      <th>0</th>\n",
              "      <td>670772142</td>\n",
              "      <td>4</td>\n",
              "      <td>2019-4</td>\n",
              "      <td>Australia</td>\n",
              "      <td>If you've ever been to Disneyland anywhere you...</td>\n",
              "      <td>Disneyland_HongKong</td>\n",
              "    </tr>\n",
              "    <tr>\n",
              "      <th>1</th>\n",
              "      <td>670682799</td>\n",
              "      <td>4</td>\n",
              "      <td>2019-5</td>\n",
              "      <td>Philippines</td>\n",
              "      <td>Its been a while since d last time we visit HK...</td>\n",
              "      <td>Disneyland_HongKong</td>\n",
              "    </tr>\n",
              "    <tr>\n",
              "      <th>2</th>\n",
              "      <td>670623270</td>\n",
              "      <td>4</td>\n",
              "      <td>2019-4</td>\n",
              "      <td>United Arab Emirates</td>\n",
              "      <td>Thanks God it wasn   t too hot or too humid wh...</td>\n",
              "      <td>Disneyland_HongKong</td>\n",
              "    </tr>\n",
              "    <tr>\n",
              "      <th>3</th>\n",
              "      <td>670607911</td>\n",
              "      <td>4</td>\n",
              "      <td>2019-4</td>\n",
              "      <td>Australia</td>\n",
              "      <td>HK Disneyland is a great compact park. Unfortu...</td>\n",
              "      <td>Disneyland_HongKong</td>\n",
              "    </tr>\n",
              "    <tr>\n",
              "      <th>4</th>\n",
              "      <td>670607296</td>\n",
              "      <td>4</td>\n",
              "      <td>2019-4</td>\n",
              "      <td>United Kingdom</td>\n",
              "      <td>the location is not in the city, took around 1...</td>\n",
              "      <td>Disneyland_HongKong</td>\n",
              "    </tr>\n",
              "    <tr>\n",
              "      <th>5</th>\n",
              "      <td>670591897</td>\n",
              "      <td>3</td>\n",
              "      <td>2019-4</td>\n",
              "      <td>Singapore</td>\n",
              "      <td>Have been to Disney World, Disneyland Anaheim ...</td>\n",
              "      <td>Disneyland_HongKong</td>\n",
              "    </tr>\n",
              "    <tr>\n",
              "      <th>6</th>\n",
              "      <td>670585330</td>\n",
              "      <td>5</td>\n",
              "      <td>2019-4</td>\n",
              "      <td>India</td>\n",
              "      <td>Great place! Your day will go by and you won't...</td>\n",
              "      <td>Disneyland_HongKong</td>\n",
              "    </tr>\n",
              "    <tr>\n",
              "      <th>7</th>\n",
              "      <td>670574142</td>\n",
              "      <td>3</td>\n",
              "      <td>2019-3</td>\n",
              "      <td>Malaysia</td>\n",
              "      <td>Think of it as an intro to Disney magic for th...</td>\n",
              "      <td>Disneyland_HongKong</td>\n",
              "    </tr>\n",
              "    <tr>\n",
              "      <th>8</th>\n",
              "      <td>670571027</td>\n",
              "      <td>2</td>\n",
              "      <td>2019-4</td>\n",
              "      <td>Australia</td>\n",
              "      <td>Feel so let down with this place,the Disneylan...</td>\n",
              "      <td>Disneyland_HongKong</td>\n",
              "    </tr>\n",
              "    <tr>\n",
              "      <th>9</th>\n",
              "      <td>670570869</td>\n",
              "      <td>5</td>\n",
              "      <td>2019-3</td>\n",
              "      <td>India</td>\n",
              "      <td>I can go on talking about Disneyland. Whatever...</td>\n",
              "      <td>Disneyland_HongKong</td>\n",
              "    </tr>\n",
              "  </tbody>\n",
              "</table>\n",
              "</div>\n",
              "      <button class=\"colab-df-convert\" onclick=\"convertToInteractive('df-26b44a0f-984c-454b-84a0-873c02473459')\"\n",
              "              title=\"Convert this dataframe to an interactive table.\"\n",
              "              style=\"display:none;\">\n",
              "        \n",
              "  <svg xmlns=\"http://www.w3.org/2000/svg\" height=\"24px\"viewBox=\"0 0 24 24\"\n",
              "       width=\"24px\">\n",
              "    <path d=\"M0 0h24v24H0V0z\" fill=\"none\"/>\n",
              "    <path d=\"M18.56 5.44l.94 2.06.94-2.06 2.06-.94-2.06-.94-.94-2.06-.94 2.06-2.06.94zm-11 1L8.5 8.5l.94-2.06 2.06-.94-2.06-.94L8.5 2.5l-.94 2.06-2.06.94zm10 10l.94 2.06.94-2.06 2.06-.94-2.06-.94-.94-2.06-.94 2.06-2.06.94z\"/><path d=\"M17.41 7.96l-1.37-1.37c-.4-.4-.92-.59-1.43-.59-.52 0-1.04.2-1.43.59L10.3 9.45l-7.72 7.72c-.78.78-.78 2.05 0 2.83L4 21.41c.39.39.9.59 1.41.59.51 0 1.02-.2 1.41-.59l7.78-7.78 2.81-2.81c.8-.78.8-2.07 0-2.86zM5.41 20L4 18.59l7.72-7.72 1.47 1.35L5.41 20z\"/>\n",
              "  </svg>\n",
              "      </button>\n",
              "      \n",
              "  <style>\n",
              "    .colab-df-container {\n",
              "      display:flex;\n",
              "      flex-wrap:wrap;\n",
              "      gap: 12px;\n",
              "    }\n",
              "\n",
              "    .colab-df-convert {\n",
              "      background-color: #E8F0FE;\n",
              "      border: none;\n",
              "      border-radius: 50%;\n",
              "      cursor: pointer;\n",
              "      display: none;\n",
              "      fill: #1967D2;\n",
              "      height: 32px;\n",
              "      padding: 0 0 0 0;\n",
              "      width: 32px;\n",
              "    }\n",
              "\n",
              "    .colab-df-convert:hover {\n",
              "      background-color: #E2EBFA;\n",
              "      box-shadow: 0px 1px 2px rgba(60, 64, 67, 0.3), 0px 1px 3px 1px rgba(60, 64, 67, 0.15);\n",
              "      fill: #174EA6;\n",
              "    }\n",
              "\n",
              "    [theme=dark] .colab-df-convert {\n",
              "      background-color: #3B4455;\n",
              "      fill: #D2E3FC;\n",
              "    }\n",
              "\n",
              "    [theme=dark] .colab-df-convert:hover {\n",
              "      background-color: #434B5C;\n",
              "      box-shadow: 0px 1px 3px 1px rgba(0, 0, 0, 0.15);\n",
              "      filter: drop-shadow(0px 1px 2px rgba(0, 0, 0, 0.3));\n",
              "      fill: #FFFFFF;\n",
              "    }\n",
              "  </style>\n",
              "\n",
              "      <script>\n",
              "        const buttonEl =\n",
              "          document.querySelector('#df-26b44a0f-984c-454b-84a0-873c02473459 button.colab-df-convert');\n",
              "        buttonEl.style.display =\n",
              "          google.colab.kernel.accessAllowed ? 'block' : 'none';\n",
              "\n",
              "        async function convertToInteractive(key) {\n",
              "          const element = document.querySelector('#df-26b44a0f-984c-454b-84a0-873c02473459');\n",
              "          const dataTable =\n",
              "            await google.colab.kernel.invokeFunction('convertToInteractive',\n",
              "                                                     [key], {});\n",
              "          if (!dataTable) return;\n",
              "\n",
              "          const docLinkHtml = 'Like what you see? Visit the ' +\n",
              "            '<a target=\"_blank\" href=https://colab.research.google.com/notebooks/data_table.ipynb>data table notebook</a>'\n",
              "            + ' to learn more about interactive tables.';\n",
              "          element.innerHTML = '';\n",
              "          dataTable['output_type'] = 'display_data';\n",
              "          await google.colab.output.renderOutput(dataTable, element);\n",
              "          const docLink = document.createElement('div');\n",
              "          docLink.innerHTML = docLinkHtml;\n",
              "          element.appendChild(docLink);\n",
              "        }\n",
              "      </script>\n",
              "    </div>\n",
              "  </div>\n",
              "  "
            ]
          },
          "metadata": {},
          "execution_count": 3
        }
      ]
    },
    {
      "cell_type": "markdown",
      "source": [
        "**Positive/Negative split**"
      ],
      "metadata": {
        "id": "uPqtokiOYRHW"
      }
    },
    {
      "cell_type": "code",
      "source": [
        "# assign positive label (1) for ratings from 1 to 3 and negative label (0) for ratings 1 and 2\n",
        "disneyland_data[\"Sentiment\"] = disneyland_data[\"Rating\"].apply(lambda score: \"positive\" if score >= 3 else \"negative\")\n",
        "disneyland_data['Sentiment'] = disneyland_data['Sentiment'].map({'positive':1, 'negative':0})\n",
        "sentiment_data = disneyland_data[[\"Review_Text\", \"Sentiment\"]]"
      ],
      "metadata": {
        "id": "e286tnlOMaoN"
      },
      "execution_count": 4,
      "outputs": []
    },
    {
      "cell_type": "code",
      "metadata": {
        "_uuid": "cb6bb97b0f851947dcf341a1de5708a1f2bc64c1",
        "id": "z4MNS2iQ_y8W",
        "outputId": "72a2f5ab-f469-4f82-fa54-cae2f5002947",
        "colab": {
          "base_uri": "https://localhost:8080/"
        }
      },
      "source": [
        "# sentiment count to see if the dataset is balanced or not\n",
        "sentiment_data['Sentiment'].value_counts()"
      ],
      "execution_count": 5,
      "outputs": [
        {
          "output_type": "execute_result",
          "data": {
            "text/plain": [
              "1    39030\n",
              "0     3626\n",
              "Name: Sentiment, dtype: int64"
            ]
          },
          "metadata": {},
          "execution_count": 5
        }
      ]
    },
    {
      "cell_type": "markdown",
      "metadata": {
        "id": "kI2X3faJ_y8W"
      },
      "source": [
        "The dataset is not balanced, so let's take a random sample from the positive label reviews and create a balanced dataset. "
      ]
    },
    {
      "cell_type": "code",
      "source": [
        "# select positive reviews\n",
        "positive_data = sentiment_data[sentiment_data['Sentiment'] == 1]\n",
        "# take a sample size 4000 from the positive reviews\n",
        "positive_sample = positive_data.sample(4000, random_state=123)\n",
        "# select negative reviews\n",
        "negative_data = sentiment_data[sentiment_data['Sentiment'] == 0]"
      ],
      "metadata": {
        "id": "g7tvl5nMPh6p"
      },
      "execution_count": 6,
      "outputs": []
    },
    {
      "cell_type": "code",
      "source": [
        "# create new balanced dataset\n",
        "data = positive_sample.append(negative_data)\n",
        "# shuffle the rows from the dataset\n",
        "data = data.sample(frac=1, random_state=123).reset_index(drop=True)"
      ],
      "metadata": {
        "id": "w5fXuO7USIX4"
      },
      "execution_count": 7,
      "outputs": []
    },
    {
      "cell_type": "code",
      "source": [
        "data['Sentiment'].value_counts()"
      ],
      "metadata": {
        "colab": {
          "base_uri": "https://localhost:8080/"
        },
        "id": "XVtbWxEdZlsr",
        "outputId": "aca7e5bb-9a5d-448a-8b6d-bf50fd023746"
      },
      "execution_count": 8,
      "outputs": [
        {
          "output_type": "execute_result",
          "data": {
            "text/plain": [
              "1    4000\n",
              "0    3626\n",
              "Name: Sentiment, dtype: int64"
            ]
          },
          "metadata": {},
          "execution_count": 8
        }
      ]
    },
    {
      "cell_type": "markdown",
      "source": [
        "Now the dataset is balanced."
      ],
      "metadata": {
        "id": "1H9C-2GZZvVa"
      }
    },
    {
      "cell_type": "markdown",
      "metadata": {
        "_uuid": "f61964573faababe1f7897b77d32815a24954d2f",
        "id": "dlSa5V9c_y8W"
      },
      "source": [
        "**Train/Test split**"
      ]
    },
    {
      "cell_type": "code",
      "metadata": {
        "_uuid": "d3aaabff555e07feb11c72cc3a6e457615975ffe",
        "id": "TrFoY_2s_y8X",
        "outputId": "ea65cd58-b940-411a-ec42-237e15dffd96",
        "colab": {
          "base_uri": "https://localhost:8080/"
        }
      },
      "source": [
        "# split the dataset (80% for the train data and 20% for test data)\n",
        "\n",
        "#train dataset \n",
        "train_reviews=data.Review_Text[:6100]\n",
        "train_sentiments=data.Sentiment[:6100]\n",
        "\n",
        "#test dataset\n",
        "test_reviews=data.Review_Text[6100:]\n",
        "test_sentiments=data.Sentiment[6100:]\n",
        "\n",
        "print(train_reviews.shape,train_sentiments.shape)\n",
        "print(test_reviews.shape,test_sentiments.shape)"
      ],
      "execution_count": 9,
      "outputs": [
        {
          "output_type": "stream",
          "name": "stdout",
          "text": [
            "(6100,) (6100,)\n",
            "(1526,) (1526,)\n"
          ]
        }
      ]
    },
    {
      "cell_type": "markdown",
      "metadata": {
        "_uuid": "90da29c3b79f46f41d7391a2a116065b616d0fac",
        "id": "iuh9-BJf_y8X"
      },
      "source": [
        "##Text preprocessing"
      ]
    },
    {
      "cell_type": "code",
      "metadata": {
        "_uuid": "f000c43d91f68f6668539f089c6a54c5ce3bd819",
        "id": "wo9pJJWe_y8X",
        "outputId": "b0213bbe-ded9-48e9-aa0c-d801ed2be89b",
        "colab": {
          "base_uri": "https://localhost:8080/"
        }
      },
      "source": [
        "nltk.download('stopwords')\n",
        "#Tokenization of text\n",
        "tokenizer=ToktokTokenizer()\n",
        "# Setting English stopwords\n",
        "stopword_list=nltk.corpus.stopwords.words('english')"
      ],
      "execution_count": 10,
      "outputs": [
        {
          "output_type": "stream",
          "name": "stdout",
          "text": [
            "[nltk_data] Downloading package stopwords to /root/nltk_data...\n",
            "[nltk_data]   Package stopwords is already up-to-date!\n"
          ]
        }
      ]
    },
    {
      "cell_type": "markdown",
      "metadata": {
        "_uuid": "88117b74761d1047924d6d70f76642faa0e706ac",
        "id": "VW-5f5ye_y8Y"
      },
      "source": [
        "**Removing special characters**"
      ]
    },
    {
      "cell_type": "code",
      "metadata": {
        "_uuid": "219da72b025121fd98081df50ae0fcaace10cc9d",
        "id": "JW3knwp3_y8Y"
      },
      "source": [
        "# function for removing special characters (characters that are not letters or numbers)\n",
        "def remove_special_characters(text):\n",
        "    pattern = r'[^a-zA-z0-9\\s]'\n",
        "    text=re.sub(pattern,'',text)\n",
        "    return text\n",
        "\n",
        "# function for removing extra blank spaces (when there is more than one blank just replace with one)\n",
        "def remove_extra_blank_spaces(text):\n",
        "  return re.sub(' +', ' ', text)\n",
        "\n",
        "#Apply functions on review column\n",
        "data['Review_Text'] = data['Review_Text'].apply(remove_special_characters)\n",
        "data['Review_Text'] = data['Review_Text'].apply(remove_extra_blank_spaces)"
      ],
      "execution_count": 11,
      "outputs": []
    },
    {
      "cell_type": "markdown",
      "metadata": {
        "_uuid": "3b66eeabd5b7b8c251f8b8ddf331140a64bcd514",
        "id": "-4_iB8Tg_y8Y"
      },
      "source": [
        "**Text stemming**"
      ]
    },
    {
      "cell_type": "code",
      "metadata": {
        "_uuid": "2295f2946e0ab74c220ad538d0e7adc04d23f697",
        "id": "30iXt2nH_y8Y"
      },
      "source": [
        "# Stemming the text function\n",
        "def simple_stemmer(text):\n",
        "    ps=nltk.porter.PorterStemmer()\n",
        "    text= ' '.join([ps.stem(word) for word in text.split()])\n",
        "    return text\n",
        "    \n",
        "# Apply function on review column\n",
        "data['Review_Text'] = data['Review_Text'].apply(simple_stemmer)"
      ],
      "execution_count": 12,
      "outputs": []
    },
    {
      "cell_type": "markdown",
      "metadata": {
        "_uuid": "e83107e4a281d84d7ae42b4e2c8d81b7ece438e4",
        "id": "MIHQM8oO_y8Z"
      },
      "source": [
        "**Removing stopwords**"
      ]
    },
    {
      "cell_type": "code",
      "metadata": {
        "_uuid": "5dbff82b4d2d188d8777b273a75d8ac714d38885",
        "id": "p1O7ya9Q_y8Z"
      },
      "source": [
        "# set stopwords to english\n",
        "stop=set(stopwords.words('english'))\n",
        "\n",
        "# removing the stopwords\n",
        "def remove_stopwords(text, is_lower_case=False):\n",
        "    tokens = tokenizer.tokenize(text)\n",
        "    tokens = [token.strip() for token in tokens]\n",
        "    if is_lower_case:\n",
        "        filtered_tokens = [token for token in tokens if token not in stopword_list]\n",
        "    else:\n",
        "        filtered_tokens = [token for token in tokens if token.lower() not in stopword_list]\n",
        "    filtered_text = ' '.join(filtered_tokens)    \n",
        "    return filtered_text\n",
        "\n",
        "# Apply function on review column\n",
        "data['Review_Text'] = data['Review_Text'].apply(remove_stopwords)"
      ],
      "execution_count": 13,
      "outputs": []
    },
    {
      "cell_type": "markdown",
      "metadata": {
        "_uuid": "b35e7499291173119ed42287deac6f0cd96516e1",
        "id": "4KIl1QWH_y8Z"
      },
      "source": [
        "**Normalized train reviews**"
      ]
    },
    {
      "cell_type": "code",
      "metadata": {
        "_kg_hide-output": true,
        "_uuid": "b20c242bd091929ca896ea2c6e936ca00efe6ecf",
        "id": "ENeOucEU_y8Z",
        "outputId": "58f2f5ff-30a3-4ebb-a5e1-4fee662b10f7",
        "colab": {
          "base_uri": "https://localhost:8080/",
          "height": 35
        }
      },
      "source": [
        "#normalized train reviews\n",
        "norm_train_reviews=data.Review_Text[:6100]\n",
        "norm_train_reviews[5]"
      ],
      "execution_count": 14,
      "outputs": [
        {
          "output_type": "execute_result",
          "data": {
            "text/plain": [
              "'wa great vacat daughter 15 11 enjoy everyth crowd wa light employe disney veri friendli properti wa veri clean'"
            ],
            "application/vnd.google.colaboratory.intrinsic+json": {
              "type": "string"
            }
          },
          "metadata": {},
          "execution_count": 14
        }
      ]
    },
    {
      "cell_type": "markdown",
      "metadata": {
        "_uuid": "d69462bb209a66cff86376dc8481d0c0140d894d",
        "id": "4D5E02kt_y8Z"
      },
      "source": [
        "**Normalized test reviews**"
      ]
    },
    {
      "cell_type": "code",
      "metadata": {
        "_kg_hide-output": true,
        "_uuid": "c5d0d38bd9976150367e9d75f3b933774c96a1ab",
        "id": "vzIlqROi_y8a",
        "outputId": "08541bca-66c2-45d1-f053-3bc466699cc4",
        "colab": {
          "base_uri": "https://localhost:8080/",
          "height": 35
        }
      },
      "source": [
        "# Normalized test reviews\n",
        "norm_test_reviews=data.Review_Text[6100:]\n",
        "norm_test_reviews[6102]"
      ],
      "execution_count": 15,
      "outputs": [
        {
          "output_type": "execute_result",
          "data": {
            "text/plain": [
              "'havent visit disneyland christma miss one greatest attract california immers christma spirit haunt mansion wonder halloween christma collid'"
            ],
            "application/vnd.google.colaboratory.intrinsic+json": {
              "type": "string"
            }
          },
          "metadata": {},
          "execution_count": 15
        }
      ]
    },
    {
      "cell_type": "markdown",
      "metadata": {
        "_uuid": "1c2a872ffcb6b8076fdbbba641af12081b6022ef",
        "id": "UlC8K_bt_y8a"
      },
      "source": [
        "##Bags of words model\n",
        "\n",
        "This model is used to convert text documents to numerical vectors or bag of words."
      ]
    },
    {
      "cell_type": "code",
      "metadata": {
        "_uuid": "35cf9dcefb40b2dc520c5b0d559695324c46cc04",
        "id": "GJ-OI2wG_y8a",
        "outputId": "d752550c-db28-4239-db73-d369064db9e6",
        "colab": {
          "base_uri": "https://localhost:8080/"
        }
      },
      "source": [
        "# Count vectorizer for bag of words\n",
        "cv = CountVectorizer(min_df=0,max_df=1,binary=False,ngram_range=(1,3))\n",
        "\n",
        "# transformed train reviews\n",
        "cv_train_reviews = cv.fit_transform(norm_train_reviews)\n",
        "# transformed test reviews\n",
        "cv_test_reviews=cv.transform(norm_test_reviews)\n",
        "\n",
        "print('BOW_cv_train:',cv_train_reviews.shape)\n",
        "print('BOW_cv_test:',cv_test_reviews.shape)"
      ],
      "execution_count": 16,
      "outputs": [
        {
          "output_type": "stream",
          "name": "stdout",
          "text": [
            "BOW_cv_train: (6100, 615100)\n",
            "BOW_cv_test: (1526, 615100)\n"
          ]
        }
      ]
    },
    {
      "cell_type": "markdown",
      "metadata": {
        "_uuid": "52371868f05ff9cf157280c5acf0f5bc71ee176d",
        "id": "xp9lcf2d_y8a"
      },
      "source": [
        "##Term Frequency-Inverse Document Frequency model (TF-IDF)\n",
        "\n",
        "This model is used to convert text documents to  matrix of tfidf features."
      ]
    },
    {
      "cell_type": "code",
      "metadata": {
        "_uuid": "afe6de957339921e05a6faeaf731f2272fd31946",
        "scrolled": false,
        "id": "qNdOAzZ7_y8b",
        "outputId": "9fd8b613-cbe7-4bbd-e678-adb8cec1b9c5",
        "colab": {
          "base_uri": "https://localhost:8080/"
        }
      },
      "source": [
        "# Tfidf vectorizer\n",
        "tv = TfidfVectorizer(min_df=0,max_df=1,use_idf=True,ngram_range=(1,3))\n",
        "\n",
        "# transformed train reviews\n",
        "tv_train_reviews=tv.fit_transform(norm_train_reviews)\n",
        "# transformed test reviews\n",
        "tv_test_reviews=tv.transform(norm_test_reviews)\n",
        "\n",
        "print('Tfidf_train:',tv_train_reviews.shape)\n",
        "print('Tfidf_test:',tv_test_reviews.shape)"
      ],
      "execution_count": 17,
      "outputs": [
        {
          "output_type": "stream",
          "name": "stdout",
          "text": [
            "Tfidf_train: (6100, 615100)\n",
            "Tfidf_test: (1526, 615100)\n"
          ]
        }
      ]
    },
    {
      "cell_type": "markdown",
      "metadata": {
        "_uuid": "803e92b25faa738b10928a91de72d177d8dddf85",
        "id": "okUFLOQD_y8b"
      },
      "source": [
        "**Labeling the sentiment text**"
      ]
    },
    {
      "cell_type": "code",
      "metadata": {
        "_uuid": "60f5d496ce4109d1cdbf08f4284d4d26efd93922",
        "id": "foiW2MGa_y8c",
        "outputId": "8dafa015-1985-4874-9ffe-cc4624e3f733",
        "colab": {
          "base_uri": "https://localhost:8080/"
        }
      },
      "source": [
        "#labeling the sentiment data\n",
        "lb = LabelBinarizer()\n",
        "# transformed sentiment data\n",
        "sentiment_data = lb.fit_transform(data['Sentiment'])\n",
        "print(sentiment_data.shape)"
      ],
      "execution_count": 18,
      "outputs": [
        {
          "output_type": "stream",
          "name": "stdout",
          "text": [
            "(7626, 1)\n"
          ]
        }
      ]
    },
    {
      "cell_type": "markdown",
      "metadata": {
        "_uuid": "21a80c94fb42e14391c627710c5d796c40aa7dde",
        "id": "4csvVnyz_y8c"
      },
      "source": [
        "**Split the sentiment data**"
      ]
    },
    {
      "cell_type": "code",
      "metadata": {
        "_kg_hide-output": true,
        "_uuid": "ca1e4cc917265ac98a72c37cffe57f27e9897408",
        "id": "63lOzfZ9_y8c"
      },
      "source": [
        "# Spliting the sentiment data\n",
        "train_sentiments=sentiment_data[:6100]\n",
        "test_sentiments=sentiment_data[6100:]"
      ],
      "execution_count": 19,
      "outputs": []
    },
    {
      "cell_type": "markdown",
      "metadata": {
        "id": "f39aA_SJ_y8c"
      },
      "source": [
        "##Logistic Regression model performance for Bag of Words and TF-idf features"
      ]
    },
    {
      "cell_type": "markdown",
      "metadata": {
        "_uuid": "d5e45fdc9d062a5b9b9dd665ffe732776e196953",
        "id": "Y63Dgqmb_y8c"
      },
      "source": [
        "Building a logistic regression model for both bag of words and tfidf features."
      ]
    },
    {
      "cell_type": "code",
      "metadata": {
        "_uuid": "142d007421900550079a12ae8655bcae678ebaad",
        "id": "0HjK3D-L_y8c",
        "outputId": "6ba38917-f02b-4291-d299-e0ca9d33b2bd",
        "colab": {
          "base_uri": "https://localhost:8080/"
        }
      },
      "source": [
        "# training the model\n",
        "lr = LogisticRegression(penalty='l2', max_iter=500, C=1, random_state=123)\n",
        "\n",
        "# Fitting the model for Bag of words\n",
        "lr_bow = lr.fit(cv_train_reviews, train_sentiments)\n",
        "\n",
        "# Fitting the model for tfidf features\n",
        "lr_tfidf = lr.fit(tv_train_reviews, train_sentiments)"
      ],
      "execution_count": 20,
      "outputs": [
        {
          "output_type": "stream",
          "name": "stderr",
          "text": [
            "/usr/local/lib/python3.7/dist-packages/sklearn/utils/validation.py:993: DataConversionWarning: A column-vector y was passed when a 1d array was expected. Please change the shape of y to (n_samples, ), for example using ravel().\n",
            "  y = column_or_1d(y, warn=True)\n",
            "/usr/local/lib/python3.7/dist-packages/sklearn/utils/validation.py:993: DataConversionWarning: A column-vector y was passed when a 1d array was expected. Please change the shape of y to (n_samples, ), for example using ravel().\n",
            "  y = column_or_1d(y, warn=True)\n"
          ]
        }
      ]
    },
    {
      "cell_type": "code",
      "metadata": {
        "_uuid": "52ad86935b76117f97b79e6672a3ba12352b9461",
        "id": "5-eVd9PA_y8d"
      },
      "source": [
        "# Predicting the model for bag of words\n",
        "lr_bow_predict = lr.predict(cv_test_reviews)\n",
        "\n",
        "# Predicting the model for tfidf features\n",
        "lr_tfidf_predict = lr.predict(tv_test_reviews)"
      ],
      "execution_count": 21,
      "outputs": []
    },
    {
      "cell_type": "markdown",
      "metadata": {
        "id": "G8iCkPGC_y8d"
      },
      "source": [
        "**Accuracy of the model**"
      ]
    },
    {
      "cell_type": "code",
      "metadata": {
        "id": "YBJjiKZ2_y8d",
        "outputId": "55917236-bbd2-4d1b-ad23-846605993565",
        "colab": {
          "base_uri": "https://localhost:8080/"
        }
      },
      "source": [
        "# Accuracy score for bag of words\n",
        "lr_bow_score = accuracy_score(test_sentiments, lr_bow_predict)\n",
        "print(\"lr_bow_accuracy :\",lr_bow_score)\n",
        "\n",
        "# Accuracy score for tfidf features\n",
        "lr_tfidf_score = accuracy_score(test_sentiments, lr_tfidf_predict)\n",
        "print(\"lr_tfidf_accuracy :\",lr_tfidf_score)"
      ],
      "execution_count": 22,
      "outputs": [
        {
          "output_type": "stream",
          "name": "stdout",
          "text": [
            "lr_bow_accuracy : 0.716251638269987\n",
            "lr_tfidf_accuracy : 0.5812581913499345\n"
          ]
        }
      ]
    },
    {
      "cell_type": "markdown",
      "metadata": {
        "_uuid": "ac2ec8353acb5e0f548e1e4a590fbe6f34f4a686",
        "id": "Ua2eIEtV_y8e"
      },
      "source": [
        "**Print the classification report**"
      ]
    },
    {
      "cell_type": "code",
      "metadata": {
        "_uuid": "f89c7e7a6136d08790ffbf6bc4d0d05455f8555a",
        "id": "HumMP3rt_y8e",
        "outputId": "a48f89e6-7b5a-412e-e4b6-97e229a90917",
        "colab": {
          "base_uri": "https://localhost:8080/"
        }
      },
      "source": [
        "# Classification report for bag of words \n",
        "lr_bow_report = classification_report(test_sentiments, lr_bow_predict, target_names=['Positive','Negative'])\n",
        "print(lr_bow_report)\n",
        "\n",
        "# Classification report for tfidf features\n",
        "lr_tfidf_report = classification_report(test_sentiments, lr_tfidf_predict, target_names=['Positive','Negative'])\n",
        "print(lr_tfidf_report)"
      ],
      "execution_count": 23,
      "outputs": [
        {
          "output_type": "stream",
          "name": "stdout",
          "text": [
            "              precision    recall  f1-score   support\n",
            "\n",
            "    Positive       0.75      0.58      0.65       709\n",
            "    Negative       0.70      0.83      0.76       817\n",
            "\n",
            "    accuracy                           0.72      1526\n",
            "   macro avg       0.72      0.71      0.71      1526\n",
            "weighted avg       0.72      0.72      0.71      1526\n",
            "\n",
            "              precision    recall  f1-score   support\n",
            "\n",
            "    Positive       0.84      0.12      0.21       709\n",
            "    Negative       0.56      0.98      0.71       817\n",
            "\n",
            "    accuracy                           0.58      1526\n",
            "   macro avg       0.70      0.55      0.46      1526\n",
            "weighted avg       0.69      0.58      0.48      1526\n",
            "\n"
          ]
        }
      ]
    },
    {
      "cell_type": "markdown",
      "metadata": {
        "_uuid": "0d2e5ddcd69ff0fb52f05f17fc74a86e1b5e5b61",
        "id": "f7zQdQDN_y8e"
      },
      "source": [
        "**Confusion matrices**"
      ]
    },
    {
      "cell_type": "code",
      "source": [
        "#confusion matrix for bag of words \n",
        "cm_bow=confusion_matrix(test_sentiments, lr_bow_predict, labels=[1,0])\n",
        "\n",
        "ax = sns.heatmap(cm_bow, annot=True, fmt='d')\n",
        "plt.title('Confusion matrix Bag of Words model on test set')\n",
        "ax.xaxis.set_ticklabels(['Positive','Negative'])\n",
        "ax.yaxis.set_ticklabels(['Positive','Negative'])\n",
        "plt.xlabel('Predicted')\n",
        "plt.ylabel('Truth')"
      ],
      "metadata": {
        "colab": {
          "base_uri": "https://localhost:8080/",
          "height": 312
        },
        "id": "eMopCAC7ljBq",
        "outputId": "6bbdf9a6-12ff-45d8-fd8b-df84b9ec85e0"
      },
      "execution_count": 24,
      "outputs": [
        {
          "output_type": "execute_result",
          "data": {
            "text/plain": [
              "Text(33.0, 0.5, 'Truth')"
            ]
          },
          "metadata": {},
          "execution_count": 24
        },
        {
          "output_type": "display_data",
          "data": {
            "text/plain": [
              "<Figure size 432x288 with 2 Axes>"
            ],
            "image/png": "[encoded data removed]"
          },
          "metadata": {
            "needs_background": "light"
          }
        }
      ]
    },
    {
      "cell_type": "code",
      "source": [
        "# confusion matrix for tfidf features\n",
        "cm_tfidf = confusion_matrix(test_sentiments, lr_tfidf_predict, labels=[1,0])\n",
        "\n",
        "ax = sns.heatmap(cm_tfidf, annot=True, fmt='d')\n",
        "plt.title('Confusion matrix TF-IDF model on test set')\n",
        "ax.xaxis.set_ticklabels(['Positive','Negative'])\n",
        "ax.yaxis.set_ticklabels(['Positive','Negative'])\n",
        "plt.xlabel('Predicted')\n",
        "plt.ylabel('Truth')"
      ],
      "metadata": {
        "colab": {
          "base_uri": "https://localhost:8080/",
          "height": 312
        },
        "id": "YtzFksWimK3X",
        "outputId": "ad3c6bc3-f914-45b2-b821-4711d76d1eb1"
      },
      "execution_count": 25,
      "outputs": [
        {
          "output_type": "execute_result",
          "data": {
            "text/plain": [
              "Text(33.0, 0.5, 'Truth')"
            ]
          },
          "metadata": {},
          "execution_count": 25
        },
        {
          "output_type": "display_data",
          "data": {
            "text/plain": [
              "<Figure size 432x288 with 2 Axes>"
            ],
            "image/png": "[encoded data removed]"
          },
          "metadata": {
            "needs_background": "light"
          }
        }
      ]
    },
    {
      "cell_type": "markdown",
      "metadata": {
        "id": "-usN709w_y8e"
      },
      "source": [
        "##Multinomial Naive Bayes for Bag of Words and TF-idf features"
      ]
    },
    {
      "cell_type": "code",
      "metadata": {
        "id": "YkGHsQL6_y8e",
        "outputId": "87f3aee8-f660-49cb-b373-50abd6fb11ac",
        "colab": {
          "base_uri": "https://localhost:8080/"
        }
      },
      "source": [
        "# training the model\n",
        "mnb = MultinomialNB()\n",
        "\n",
        "# fitting the svm for bag of words\n",
        "mnb_bow = mnb.fit(cv_train_reviews, train_sentiments)\n",
        "\n",
        "# fitting the svm for tfidf features\n",
        "mnb_tfidf = mnb.fit(tv_train_reviews, train_sentiments)"
      ],
      "execution_count": 26,
      "outputs": [
        {
          "output_type": "stream",
          "name": "stderr",
          "text": [
            "/usr/local/lib/python3.7/dist-packages/sklearn/utils/validation.py:993: DataConversionWarning: A column-vector y was passed when a 1d array was expected. Please change the shape of y to (n_samples, ), for example using ravel().\n",
            "  y = column_or_1d(y, warn=True)\n",
            "/usr/local/lib/python3.7/dist-packages/sklearn/utils/validation.py:993: DataConversionWarning: A column-vector y was passed when a 1d array was expected. Please change the shape of y to (n_samples, ), for example using ravel().\n",
            "  y = column_or_1d(y, warn=True)\n"
          ]
        }
      ]
    },
    {
      "cell_type": "markdown",
      "metadata": {
        "id": "NBb0eq1N_y8f"
      },
      "source": [
        "**Model performance on test data**"
      ]
    },
    {
      "cell_type": "code",
      "metadata": {
        "id": "GPM3-EI__y8f"
      },
      "source": [
        "# Predicting the model for bag of words\n",
        "mnb_bow_predict = mnb.predict(cv_test_reviews)\n",
        "\n",
        "# Predicting the model for tfidf features\n",
        "mnb_tfidf_predict = mnb.predict(tv_test_reviews)"
      ],
      "execution_count": 27,
      "outputs": []
    },
    {
      "cell_type": "markdown",
      "metadata": {
        "id": "DuXNzPx8_y8f"
      },
      "source": [
        "**Accuracy of the model**"
      ]
    },
    {
      "cell_type": "code",
      "metadata": {
        "id": "9EuttzQb_y8f",
        "outputId": "b721d9a0-de96-4239-f5d0-7f9d9161e538",
        "colab": {
          "base_uri": "https://localhost:8080/"
        }
      },
      "source": [
        "# Accuracy score for bag of words\n",
        "mnb_bow_score = accuracy_score(test_sentiments, mnb_bow_predict)\n",
        "print(\"mnb_bow_accuracy :\", mnb_bow_score)\n",
        "\n",
        "# Accuracy score for tfidf features\n",
        "mnb_tfidf_score = accuracy_score(test_sentiments, mnb_tfidf_predict)\n",
        "print(\"mnb_tfidf_accuracy :\", mnb_tfidf_score)"
      ],
      "execution_count": 28,
      "outputs": [
        {
          "output_type": "stream",
          "name": "stdout",
          "text": [
            "mnb_bow_accuracy : 0.7201834862385321\n",
            "mnb_tfidf_accuracy : 0.6520314547837484\n"
          ]
        }
      ]
    },
    {
      "cell_type": "markdown",
      "metadata": {
        "id": "6PoCOb2k_y8f"
      },
      "source": [
        "**Print the classification report**"
      ]
    },
    {
      "cell_type": "code",
      "metadata": {
        "id": "HJPtUkzZ_y8g",
        "outputId": "84645a2c-d6b4-418d-d9f9-98a1319900af",
        "colab": {
          "base_uri": "https://localhost:8080/"
        }
      },
      "source": [
        "# Classification report for bag of words \n",
        "mnb_bow_report = classification_report(test_sentiments, mnb_bow_predict, target_names=['Positive','Negative'])\n",
        "print(mnb_bow_report)\n",
        "\n",
        "#Classification report for tfidf features\n",
        "mnb_tfidf_report = classification_report(test_sentiments, mnb_tfidf_predict, target_names=['Positive','Negative'])\n",
        "print(mnb_tfidf_report)"
      ],
      "execution_count": 29,
      "outputs": [
        {
          "output_type": "stream",
          "name": "stdout",
          "text": [
            "              precision    recall  f1-score   support\n",
            "\n",
            "    Positive       0.75      0.59      0.66       709\n",
            "    Negative       0.70      0.83      0.76       817\n",
            "\n",
            "    accuracy                           0.72      1526\n",
            "   macro avg       0.73      0.71      0.71      1526\n",
            "weighted avg       0.73      0.72      0.72      1526\n",
            "\n",
            "              precision    recall  f1-score   support\n",
            "\n",
            "    Positive       0.77      0.35      0.49       709\n",
            "    Negative       0.62      0.91      0.74       817\n",
            "\n",
            "    accuracy                           0.65      1526\n",
            "   macro avg       0.70      0.63      0.61      1526\n",
            "weighted avg       0.69      0.65      0.62      1526\n",
            "\n"
          ]
        }
      ]
    },
    {
      "cell_type": "markdown",
      "metadata": {
        "id": "1Ct9omwo_y8g"
      },
      "source": [
        "**Plot confusion matrices**"
      ]
    },
    {
      "cell_type": "code",
      "source": [
        "# confusion matrix for bag of words\n",
        "cm_bow = confusion_matrix(test_sentiments, mnb_bow_predict, labels=[1,0])\n",
        "\n",
        "ax = sns.heatmap(cm_bow, annot=True, fmt='d')\n",
        "plt.title('Confusion matrix Bag of Words model on test set')\n",
        "ax.xaxis.set_ticklabels(['Positive','Negative'])\n",
        "ax.yaxis.set_ticklabels(['Positive','Negative'])\n",
        "plt.xlabel('Predicted')\n",
        "plt.ylabel('Truth')"
      ],
      "metadata": {
        "colab": {
          "base_uri": "https://localhost:8080/",
          "height": 312
        },
        "id": "Vz6ZDP5Dkutm",
        "outputId": "9e6c51ee-a902-4c97-efad-a49b379ec7e2"
      },
      "execution_count": 30,
      "outputs": [
        {
          "output_type": "execute_result",
          "data": {
            "text/plain": [
              "Text(33.0, 0.5, 'Truth')"
            ]
          },
          "metadata": {},
          "execution_count": 30
        },
        {
          "output_type": "display_data",
          "data": {
            "text/plain": [
              "<Figure size 432x288 with 2 Axes>"
            ],
            "image/png": "[encoded data removed]"
          },
          "metadata": {
            "needs_background": "light"
          }
        }
      ]
    },
    {
      "cell_type": "code",
      "source": [
        "# confusion matrix for tfidf features\n",
        "cm_tfidf = confusion_matrix(test_sentiments, mnb_tfidf_predict, labels=[1,0])\n",
        "\n",
        "ax = sns.heatmap(cm_tfidf, annot=True, fmt='d')\n",
        "plt.title('Confusion matrix TF-IDF model on test set')\n",
        "ax.xaxis.set_ticklabels(['Positive','Negative'])\n",
        "ax.yaxis.set_ticklabels(['Positive','Negative'])\n",
        "plt.xlabel('Predicted')\n",
        "plt.ylabel('Truth')"
      ],
      "metadata": {
        "colab": {
          "base_uri": "https://localhost:8080/",
          "height": 312
        },
        "id": "BHuyFr3plJCj",
        "outputId": "ea2e9829-56b8-4963-cd01-f6ba925d5a0c"
      },
      "execution_count": 31,
      "outputs": [
        {
          "output_type": "execute_result",
          "data": {
            "text/plain": [
              "Text(33.0, 0.5, 'Truth')"
            ]
          },
          "metadata": {},
          "execution_count": 31
        },
        {
          "output_type": "display_data",
          "data": {
            "text/plain": [
              "<Figure size 432x288 with 2 Axes>"
            ],
            "image/png": "[encoded data removed]"
          },
          "metadata": {
            "needs_background": "light"
          }
        }
      ]
    },
    {
      "cell_type": "markdown",
      "metadata": {
        "id": "9Oy38aUw_y8g"
      },
      "source": [
        "##TextBlob\n",
        "\n",
        "TextBlob Python library has a pre-trained sentiment prediction model."
      ]
    },
    {
      "cell_type": "code",
      "metadata": {
        "id": "xFLNSRWu_y8g",
        "outputId": "f0ca5830-376f-47d9-a535-010cdb316150",
        "colab": {
          "base_uri": "https://localhost:8080/"
        }
      },
      "source": [
        "# refresh the data variable without text treatment\n",
        "data = positive_sample.append(negative_data)\n",
        "# shuffle the rows from the dataset\n",
        "data = data.sample(frac=1, random_state=123).reset_index(drop=True)\n",
        "\n",
        "# select test data\n",
        "test_reviews = data.Review_Text[6100:]\n",
        "test_labels = data.Sentiment[6100:]\n",
        "\n",
        "# iterate over the reviews calling the TextBlob library for sentiment analysis \n",
        "list_predict = []\n",
        "for review in test_reviews:\n",
        "  blob = TextBlob(review)\n",
        "  list_predict.append(blob.sentiment.polarity)\n",
        "\n",
        "# assign labels for predicted values (TextBlob returns them between -1 and 1)\n",
        "textblob_predict = np.array(list_predict)\n",
        "textblob_predict[textblob_predict >= 0] = 1\n",
        "textblob_predict[textblob_predict < 0] = 0\n",
        "\n",
        "# compute accuracy\n",
        "textblob_score = accuracy_score(test_labels, textblob_predict)\n",
        "print(\"TextBlob accuracy on test set:\",textblob_score)"
      ],
      "execution_count": 32,
      "outputs": [
        {
          "output_type": "stream",
          "name": "stdout",
          "text": [
            "TextBlob accuracy on test set: 0.6762778505897772\n"
          ]
        }
      ]
    },
    {
      "cell_type": "markdown",
      "source": [
        "## Conclusion\n",
        "Here is a summary of the results obtained for the test set by each of the models trained:\n",
        "\n",
        "| Model | Accuracy on test set\n",
        "| --- | --- |\n",
        "| Logistic Regression Bag of Words | 0.7163\n",
        "| Logistic Regression TF-IDF | 0.5813\n",
        "| Multinomial Naive Bayes Bag of Words | 0.7202\n",
        "| Multinomial Naive Bayes TF-IDF | 0.6520\n",
        "| TextBlob library predict | 0.6762\n",
        "\n",
        "\n",
        "- Bag of Word seems to perform better than TF-IDF.\n",
        "- Multinomial Naive Bayes does better than logistic regression model in this classification task.\n",
        "- TextBlob library that is supposed to have a good pretrained model for sentiment analysis, doesn't get better results for the classification task of this particular dataset."
      ],
      "metadata": {
        "id": "cQGilHP41U_P"
      }
    }
  ]
}